{
 "cells": [
  {
   "cell_type": "code",
   "execution_count": 50,
   "id": "1491b586",
   "metadata": {},
   "outputs": [],
   "source": [
    "import pandas as pd\n",
    "import numpy as np\n",
    "import sklearn\n",
    "import xgboost as xgb"
   ]
  },
  {
   "cell_type": "code",
   "execution_count": 1,
   "id": "6daf84d6",
   "metadata": {},
   "outputs": [
    {
     "ename": "NameError",
     "evalue": "name 'pd' is not defined",
     "output_type": "error",
     "traceback": [
      "\u001b[1;31m---------------------------------------------------------------------------\u001b[0m",
      "\u001b[1;31mNameError\u001b[0m                                 Traceback (most recent call last)",
      "Cell \u001b[1;32mIn[1], line 1\u001b[0m\n\u001b[1;32m----> 1\u001b[0m df \u001b[38;5;241m=\u001b[39m \u001b[43mpd\u001b[49m\u001b[38;5;241m.\u001b[39mread_csv(\u001b[38;5;124m\"\u001b[39m\u001b[38;5;124mfinal_85.csv\u001b[39m\u001b[38;5;124m\"\u001b[39m, on_bad_lines\u001b[38;5;241m=\u001b[39m\u001b[38;5;124m'\u001b[39m\u001b[38;5;124mskip\u001b[39m\u001b[38;5;124m'\u001b[39m)\n",
      "\u001b[1;31mNameError\u001b[0m: name 'pd' is not defined"
     ]
    }
   ],
   "source": [
    "# The initial dataset\n",
    "df = pd.read_csv(\"final_85.csv\", on_bad_lines='skip')"
   ]
  },
  {
   "cell_type": "code",
   "execution_count": 38,
   "id": "e9121a74",
   "metadata": {},
   "outputs": [
    {
     "data": {
      "text/html": [
       "<div>\n",
       "<style scoped>\n",
       "    .dataframe tbody tr th:only-of-type {\n",
       "        vertical-align: middle;\n",
       "    }\n",
       "\n",
       "    .dataframe tbody tr th {\n",
       "        vertical-align: top;\n",
       "    }\n",
       "\n",
       "    .dataframe thead th {\n",
       "        text-align: right;\n",
       "    }\n",
       "</style>\n",
       "<table border=\"1\" class=\"dataframe\">\n",
       "  <thead>\n",
       "    <tr style=\"text-align: right;\">\n",
       "      <th></th>\n",
       "      <th>REVEL_score</th>\n",
       "      <th>CADD_RAW</th>\n",
       "      <th>EVE_SCORE</th>\n",
       "      <th>PolyPhen</th>\n",
       "      <th>SIFT</th>\n",
       "      <th>CLIN_SIG</th>\n",
       "    </tr>\n",
       "  </thead>\n",
       "  <tbody>\n",
       "    <tr>\n",
       "      <th>0</th>\n",
       "      <td>0.301301</td>\n",
       "      <td>0.476263</td>\n",
       "      <td>0.292636</td>\n",
       "      <td>0.009</td>\n",
       "      <td>0.14</td>\n",
       "      <td>likely_benign</td>\n",
       "    </tr>\n",
       "    <tr>\n",
       "      <th>1</th>\n",
       "      <td>0.301301</td>\n",
       "      <td>0.476263</td>\n",
       "      <td>0.292636</td>\n",
       "      <td>0.027</td>\n",
       "      <td>0.04</td>\n",
       "      <td>likely_benign</td>\n",
       "    </tr>\n",
       "    <tr>\n",
       "      <th>2</th>\n",
       "      <td>0.301301</td>\n",
       "      <td>0.476263</td>\n",
       "      <td>0.292636</td>\n",
       "      <td>0.015</td>\n",
       "      <td>0.13</td>\n",
       "      <td>likely_benign</td>\n",
       "    </tr>\n",
       "    <tr>\n",
       "      <th>3</th>\n",
       "      <td>0.301301</td>\n",
       "      <td>0.476263</td>\n",
       "      <td>0.292636</td>\n",
       "      <td>0.013</td>\n",
       "      <td>0.10</td>\n",
       "      <td>likely_benign</td>\n",
       "    </tr>\n",
       "    <tr>\n",
       "      <th>4</th>\n",
       "      <td>0.301301</td>\n",
       "      <td>0.476263</td>\n",
       "      <td>0.292636</td>\n",
       "      <td>0.009</td>\n",
       "      <td>0.04</td>\n",
       "      <td>likely_benign</td>\n",
       "    </tr>\n",
       "    <tr>\n",
       "      <th>...</th>\n",
       "      <td>...</td>\n",
       "      <td>...</td>\n",
       "      <td>...</td>\n",
       "      <td>...</td>\n",
       "      <td>...</td>\n",
       "      <td>...</td>\n",
       "    </tr>\n",
       "    <tr>\n",
       "      <th>490</th>\n",
       "      <td>1.372880</td>\n",
       "      <td>14.900000</td>\n",
       "      <td>6.598533</td>\n",
       "      <td>0.000</td>\n",
       "      <td>0.00</td>\n",
       "      <td>pathogenic</td>\n",
       "    </tr>\n",
       "    <tr>\n",
       "      <th>491</th>\n",
       "      <td>1.372880</td>\n",
       "      <td>14.900000</td>\n",
       "      <td>6.598533</td>\n",
       "      <td>0.000</td>\n",
       "      <td>0.00</td>\n",
       "      <td>pathogenic</td>\n",
       "    </tr>\n",
       "    <tr>\n",
       "      <th>492</th>\n",
       "      <td>1.372880</td>\n",
       "      <td>14.900000</td>\n",
       "      <td>6.598533</td>\n",
       "      <td>0.000</td>\n",
       "      <td>0.00</td>\n",
       "      <td>pathogenic</td>\n",
       "    </tr>\n",
       "    <tr>\n",
       "      <th>493</th>\n",
       "      <td>1.372880</td>\n",
       "      <td>14.900000</td>\n",
       "      <td>6.598533</td>\n",
       "      <td>0.000</td>\n",
       "      <td>0.00</td>\n",
       "      <td>pathogenic</td>\n",
       "    </tr>\n",
       "    <tr>\n",
       "      <th>494</th>\n",
       "      <td>1.372880</td>\n",
       "      <td>14.900000</td>\n",
       "      <td>6.598533</td>\n",
       "      <td>0.000</td>\n",
       "      <td>0.00</td>\n",
       "      <td>pathogenic</td>\n",
       "    </tr>\n",
       "  </tbody>\n",
       "</table>\n",
       "<p>460 rows × 6 columns</p>\n",
       "</div>"
      ],
      "text/plain": [
       "     REVEL_score   CADD_RAW  EVE_SCORE  PolyPhen  SIFT       CLIN_SIG\n",
       "0       0.301301   0.476263   0.292636     0.009  0.14  likely_benign\n",
       "1       0.301301   0.476263   0.292636     0.027  0.04  likely_benign\n",
       "2       0.301301   0.476263   0.292636     0.015  0.13  likely_benign\n",
       "3       0.301301   0.476263   0.292636     0.013  0.10  likely_benign\n",
       "4       0.301301   0.476263   0.292636     0.009  0.04  likely_benign\n",
       "..           ...        ...        ...       ...   ...            ...\n",
       "490     1.372880  14.900000   6.598533     0.000  0.00     pathogenic\n",
       "491     1.372880  14.900000   6.598533     0.000  0.00     pathogenic\n",
       "492     1.372880  14.900000   6.598533     0.000  0.00     pathogenic\n",
       "493     1.372880  14.900000   6.598533     0.000  0.00     pathogenic\n",
       "494     1.372880  14.900000   6.598533     0.000  0.00     pathogenic\n",
       "\n",
       "[460 rows x 6 columns]"
      ]
     },
     "execution_count": 38,
     "metadata": {},
     "output_type": "execute_result"
    }
   ],
   "source": [
    "df"
   ]
  },
  {
   "cell_type": "code",
   "execution_count": 12,
   "id": "350ca14c",
   "metadata": {},
   "outputs": [],
   "source": [
    "# The target column is Clin_SIG, others are some mutagenicity scores that we expect to make impact\n",
    "df = df[['REVEL_score', 'CADD_RAW', 'EVE_SCORE', 'PolyPhen', 'SIFT', 'CLIN_SIG']]"
   ]
  },
  {
   "cell_type": "code",
   "execution_count": 13,
   "id": "3486351e",
   "metadata": {},
   "outputs": [
    {
     "name": "stdout",
     "output_type": "stream",
     "text": [
      "Column REVEL_score has 0 NaN values.\n",
      "Column CADD_RAW has 86 NaN values.\n",
      "Column EVE_SCORE has 79 NaN values.\n",
      "Column PolyPhen has 2 NaN values.\n",
      "Column SIFT has 0 NaN values.\n",
      "Column CLIN_SIG has 0 NaN values.\n"
     ]
    }
   ],
   "source": [
    "# check how many NaN in each column\n",
    "for column in df.columns:\n",
    "    nan_count = df[column].isna().sum()\n",
    "    print(f\"Column {column} has {nan_count} NaN values.\")"
   ]
  },
  {
   "cell_type": "code",
   "execution_count": 37,
   "id": "941a9ed0",
   "metadata": {},
   "outputs": [
    {
     "data": {
      "text/plain": [
       "(460, 6)"
      ]
     },
     "execution_count": 37,
     "metadata": {},
     "output_type": "execute_result"
    }
   ],
   "source": [
    "df.shape"
   ]
  },
  {
   "cell_type": "code",
   "execution_count": null,
   "id": "8c4bf400",
   "metadata": {},
   "outputs": [],
   "source": [
    "# As we see most of NaN in the target feature. Need to decide wheather should delete rows with NaN or substitute"
   ]
  },
  {
   "cell_type": "code",
   "execution_count": 4,
   "id": "275a12e4",
   "metadata": {},
   "outputs": [
    {
     "data": {
      "text/plain": [
       "array(['likely_benign',\n",
       "       'conflicting_interpretations_of_pathogenicity&uncertain_significance',\n",
       "       'likely_pathogenic',\n",
       "       'likely_benign&uncertain_significance&conflicting_interpretations_of_pathogenicity',\n",
       "       'conflicting_interpretations_of_pathogenicity&uncertain_significance&benign',\n",
       "       'pathogenic', 'benign/likely_benign&benign',\n",
       "       'benign/likely_benign', 'benign', 'not_provided&likely_pathogenic',\n",
       "       'pathogenic/likely_pathogenic&likely_pathogenic&pathogenic',\n",
       "       'likely_benign&benign/likely_benign',\n",
       "       'benign&conflicting_interpretations_of_pathogenicity&benign/likely_benign',\n",
       "       'likely_pathogenic&conflicting_interpretations_of_pathogenicity',\n",
       "       'likely_benign&conflicting_interpretations_of_pathogenicity',\n",
       "       'benign&likely_benign',\n",
       "       'conflicting_interpretations_of_pathogenicity',\n",
       "       'pathogenic&likely_pathogenic',\n",
       "       'likely_pathogenic&uncertain_significance'], dtype=object)"
      ]
     },
     "execution_count": 4,
     "metadata": {},
     "output_type": "execute_result"
    }
   ],
   "source": [
    "# check all unique Clin_Sig values\n",
    "df['CLIN_SIG'].unique()"
   ]
  },
  {
   "cell_type": "code",
   "execution_count": 16,
   "id": "13be74ec",
   "metadata": {},
   "outputs": [
    {
     "data": {
      "text/plain": [
       "126"
      ]
     },
     "execution_count": 16,
     "metadata": {},
     "output_type": "execute_result"
    }
   ],
   "source": [
    "(df['CLIN_SIG'] == 'not_provided').sum() "
   ]
  },
  {
   "cell_type": "code",
   "execution_count": 17,
   "id": "62b83c77",
   "metadata": {},
   "outputs": [],
   "source": [
    "# drop all rows with not_provided in CLIN_SIG\n",
    "df = df[~(df == 'not_provided').any(axis=1)]"
   ]
  },
  {
   "cell_type": "code",
   "execution_count": 17,
   "id": "bebb471e",
   "metadata": {},
   "outputs": [],
   "source": [
    "# # Use Frequency encoding\n",
    "# freq = df['CLIN_SIG'].value_counts(normalize=True)\n",
    "# df['CLIN_SIG'] = df['CLIN_SIG'].map(freq)"
   ]
  },
  {
   "cell_type": "code",
   "execution_count": null,
   "id": "6bef7716",
   "metadata": {},
   "outputs": [],
   "source": [
    "# Now we need to substitute NaN in other columns"
   ]
  },
  {
   "cell_type": "code",
   "execution_count": 26,
   "id": "e3c6d0b1",
   "metadata": {},
   "outputs": [
    {
     "data": {
      "text/plain": [
       "array([0.301301  , 0.591591  , 0.928928  , 0.159159  , 0.086086  ,\n",
       "       0.307307  , 0.35      , 0.025     , 0.019     , 0.119     ,\n",
       "       0.279279  , 0.463     , 0.061061  , 0.543543  , 0.205     ,\n",
       "       0.071     , 0.131131  , 0.91      , 0.913     , 0.784     ,\n",
       "       0.223223  , 0.36595966, 0.226019  , 0.52685759, 0.30085605,\n",
       "       0.88892072, 0.09947075, 0.97068845, 0.26240859, 0.63626839,\n",
       "       0.933     , 0.622     , 0.037     , 0.60560561, 0.096     ,\n",
       "       0.2002    , 0.064064  , 0.686     , 0.103     , 0.04704705,\n",
       "       0.929     , 0.87187187, 0.094     , 0.05605606, 0.072     ,\n",
       "       0.8559543 , 0.569     , 0.31      , 1.422     , 0.342     ,\n",
       "       0.032     , 1.514     , 0.598     , 0.309     , 0.181     ,\n",
       "       0.916     , 0.393     , 0.129     , 0.5045045 , 0.601601  ,\n",
       "       0.113113  , 0.067067  , 0.593593  , 0.052052  , 4.211689  ,\n",
       "       4.351954  , 1.37288   ])"
      ]
     },
     "execution_count": 26,
     "metadata": {},
     "output_type": "execute_result"
    }
   ],
   "source": [
    "# check all unique Revel values\n",
    "df['REVEL_score'].unique()"
   ]
  },
  {
   "cell_type": "code",
   "execution_count": 19,
   "id": "78f3cfaf",
   "metadata": {},
   "outputs": [],
   "source": [
    "df['REVEL_score'] = df['REVEL_score'].apply(lambda x: x.replace('&0.', ''))"
   ]
  },
  {
   "cell_type": "code",
   "execution_count": 20,
   "id": "41ba951f",
   "metadata": {},
   "outputs": [],
   "source": [
    "df['REVEL_score'] = df['REVEL_score'].apply(lambda x: x.replace('&.', ''))"
   ]
  },
  {
   "cell_type": "code",
   "execution_count": 21,
   "id": "7f841086",
   "metadata": {},
   "outputs": [],
   "source": [
    "df['REVEL_score'] = df['REVEL_score'].apply(lambda x: x.replace('.&', '0'))"
   ]
  },
  {
   "cell_type": "code",
   "execution_count": 25,
   "id": "d5595038",
   "metadata": {},
   "outputs": [],
   "source": [
    "df['REVEL_score'] = df['REVEL_score'].apply(lambda x: float(x))"
   ]
  },
  {
   "cell_type": "code",
   "execution_count": 31,
   "id": "bab47f37",
   "metadata": {},
   "outputs": [
    {
     "data": {
      "text/plain": [
       "array([ 0.476263  ,  2.234953  ,  4.302908  , -0.578957  , -0.699148  ,\n",
       "        3.0311685 ,  0.45267433,  0.46653971, -1.115572  ,  2.03105   ,\n",
       "        3.760569  ,  3.521154  ,  2.201807  ,  4.732251  ,  1.738637  ,\n",
       "        2.020851  , -1.26516   ,  3.618528  ,  3.542814  ,  2.539535  ,\n",
       "        1.673065  ,  0.83231732,  0.20367536,  0.3970337 ,  0.28489046,\n",
       "        0.19817939,  0.50936578,  0.07624982,  0.51145022,  0.66716996,\n",
       "        0.13055818,  0.09241236,  3.183496  ,  3.783392  ,  1.613246  ,\n",
       "        3.924563  ,  1.617616  ,  3.713111  ,  4.111003  ,  2.413458  ,\n",
       "        3.661225  ,  3.244816  ,  0.843524  ,  2.871921  ,  1.844133  ,\n",
       "        0.8267593 ,  0.76492492,  0.18634018,  0.19708022, 28.8       ,\n",
       "       30.        , 14.9       ])"
      ]
     },
     "execution_count": 31,
     "metadata": {},
     "output_type": "execute_result"
    }
   ],
   "source": [
    "df['CADD_RAW'].unique()"
   ]
  },
  {
   "cell_type": "code",
   "execution_count": 57,
   "id": "ed602140",
   "metadata": {},
   "outputs": [],
   "source": [
    "# drop all str values\n",
    "df = df[df['CADD_RAW'] != 'Uncertain']"
   ]
  },
  {
   "cell_type": "code",
   "execution_count": 28,
   "id": "c72a467e",
   "metadata": {},
   "outputs": [],
   "source": [
    "# convert every value to numeric\n",
    "df['CADD_RAW'] = pd.to_numeric(df['CADD_RAW'], errors='coerce')"
   ]
  },
  {
   "cell_type": "code",
   "execution_count": 30,
   "id": "d0530396",
   "metadata": {},
   "outputs": [],
   "source": [
    "# substitute nan with mean\n",
    "df['CADD_RAW'] = df['CADD_RAW'].fillna(df['CADD_RAW'].mean())"
   ]
  },
  {
   "cell_type": "code",
   "execution_count": null,
   "id": "70665f01",
   "metadata": {},
   "outputs": [],
   "source": [
    "# substitute nan by mean"
   ]
  },
  {
   "cell_type": "code",
   "execution_count": 40,
   "id": "a35d56d9",
   "metadata": {},
   "outputs": [
    {
     "data": {
      "text/plain": [
       "array([ 0.2926359 ,  0.36980795,  0.90950153,  6.59853329,  4.636202  ,\n",
       "        1.882832  ,  1.269156  ,  0.55985002,  0.20856665,  0.93136394,\n",
       "        0.91849847,  0.92019832,  0.10468851,  3.590577  ,  2.283556  ,\n",
       "        4.248416  ,  4.656308  ,  5.591318  ,  1.153018  ,  4.806123  ,\n",
       "        3.375517  ,  4.153694  , 28.7       , 26.3       ,  1.989     ,\n",
       "       24.3       , 23.6       , 17.64      , 12.49      , 25.1       ,\n",
       "       16.01      ,  3.559     , 29.5       , 32.        , 11.68      ,\n",
       "        2.168139  ,  0.973211  , 29.4       ,  0.20054717,  0.98522396,\n",
       "        0.83501945,  0.11569733,  0.58218742,  0.69434573,  4.41506   ,\n",
       "        4.305868  ,  1.67579   ,  0.724283  ,  3.740603  ,  1.516408  ])"
      ]
     },
     "execution_count": 40,
     "metadata": {},
     "output_type": "execute_result"
    }
   ],
   "source": [
    "df['EVE_SCORE'].unique()"
   ]
  },
  {
   "cell_type": "code",
   "execution_count": 41,
   "id": "da569598",
   "metadata": {},
   "outputs": [],
   "source": [
    "# convert every value to numeric\n",
    "df['EVE_SCORE'] = pd.to_numeric(df['EVE_SCORE'], errors='coerce')"
   ]
  },
  {
   "cell_type": "code",
   "execution_count": 36,
   "id": "c6eff600",
   "metadata": {},
   "outputs": [],
   "source": [
    "# substitute nan with mean\n",
    "df['EVE_SCORE'] = df['EVE_SCORE'].fillna(df['EVE_SCORE'].mean())"
   ]
  },
  {
   "cell_type": "code",
   "execution_count": 38,
   "id": "5db09253",
   "metadata": {},
   "outputs": [],
   "source": [
    "# convert every value to numeric\n",
    "df['EVE_SCORE'] = pd.to_numeric(df['EVE_SCORE'], errors='coerce')"
   ]
  },
  {
   "cell_type": "code",
   "execution_count": 47,
   "id": "f40ef5a8",
   "metadata": {},
   "outputs": [
    {
     "data": {
      "text/plain": [
       "array([0.009    , 0.027    , 0.015    , 0.013    , 0.007    , 0.012    ,\n",
       "       0.025    , 0.997    , 0.067    , 0.577    , 0.763    , 1.       ,\n",
       "       0.998    , 0.037    , 0.017    , 0.       , 0.001    , 0.031    ,\n",
       "       0.583    , 0.003    , 0.095    , 0.155    , 0.204    , 0.258    ,\n",
       "       0.712    , 0.412    , 0.08     , 0.342    , 0.341    , 0.074    ,\n",
       "       0.981    , 0.999    , 0.841    , 0.057    , 0.4968499, 0.809    ,\n",
       "       0.995    , 0.9      , 0.991    , 0.978    , 0.996    , 0.994    ,\n",
       "       0.958    , 0.691    , 0.011    , 0.716    , 0.852    , 0.98     ,\n",
       "       0.63     , 0.714    , 0.963    , 0.933    , 0.955    , 0.941    ,\n",
       "       0.596    , 0.632    , 0.972    , 0.987    , 0.164    , 0.878    ,\n",
       "       0.255    , 0.137    , 0.219    , 0.02     , 0.134    , 0.859    ,\n",
       "       0.05     , 0.125    , 0.077    , 0.615    , 0.988    , 0.979    ,\n",
       "       0.959    , 0.982    , 0.717    , 0.302    , 0.774    , 0.024    ,\n",
       "       0.021    , 0.035    , 0.01     , 0.006    , 0.742    , 0.022    ,\n",
       "       0.038    , 0.136    , 0.589    , 0.94     , 0.983    , 0.421    ,\n",
       "       0.234    , 0.151    , 0.383    , 0.815    , 0.769    , 0.089    ,\n",
       "       0.157    , 0.186    , 0.694    , 0.957    , 0.039    , 0.047    ,\n",
       "       0.89     , 0.864    ])"
      ]
     },
     "execution_count": 47,
     "metadata": {},
     "output_type": "execute_result"
    }
   ],
   "source": [
    "df['PolyPhen'].unique()"
   ]
  },
  {
   "cell_type": "code",
   "execution_count": 43,
   "id": "1d6fe5cf",
   "metadata": {},
   "outputs": [
    {
     "name": "stderr",
     "output_type": "stream",
     "text": [
      "C:\\Users\\aisin\\AppData\\Local\\Temp\\ipykernel_17644\\1614955975.py:1: FutureWarning: The default value of regex will change from True to False in a future version.\n",
      "  df['PolyPhen'] = df['PolyPhen'].str.replace(r'[^\\d.]+', '')\n"
     ]
    }
   ],
   "source": [
    "df['PolyPhen'] = df['PolyPhen'].str.replace(r'[^\\d.]+', '')"
   ]
  },
  {
   "cell_type": "code",
   "execution_count": 45,
   "id": "dcd7e7d9",
   "metadata": {},
   "outputs": [],
   "source": [
    "df['PolyPhen'] = pd.to_numeric(df['PolyPhen'], errors='coerce')"
   ]
  },
  {
   "cell_type": "code",
   "execution_count": 46,
   "id": "ca530aa3",
   "metadata": {},
   "outputs": [],
   "source": [
    "df['PolyPhen'] = df['PolyPhen'].fillna(df['PolyPhen'].mean())"
   ]
  },
  {
   "cell_type": "code",
   "execution_count": 51,
   "id": "3ab2767c",
   "metadata": {},
   "outputs": [
    {
     "data": {
      "text/plain": [
       "array([0.14, 0.04, 0.13, 0.1 , 0.05, 0.11, 0.01, 0.  , 1.  , 0.27, 0.36,\n",
       "       0.09, 0.15, 0.23, 0.78, 0.75, 0.81, 0.73, 0.89, 0.64, 0.63, 0.08,\n",
       "       0.03, 0.06, 0.07, 0.37, 0.02, 0.18, 0.2 , 0.28, 0.21, 0.24, 0.25,\n",
       "       0.17, 0.7 , 0.29, 0.35, 0.3 , 0.34])"
      ]
     },
     "execution_count": 51,
     "metadata": {},
     "output_type": "execute_result"
    }
   ],
   "source": [
    "df['SIFT'].unique()"
   ]
  },
  {
   "cell_type": "code",
   "execution_count": 49,
   "id": "a8fd7022",
   "metadata": {},
   "outputs": [
    {
     "name": "stderr",
     "output_type": "stream",
     "text": [
      "C:\\Users\\aisin\\AppData\\Local\\Temp\\ipykernel_17644\\2125992723.py:1: FutureWarning: The default value of regex will change from True to False in a future version.\n",
      "  df['SIFT'] = df['SIFT'].str.replace(r'[^\\d.]+', '')\n"
     ]
    }
   ],
   "source": [
    "df['SIFT'] = df['SIFT'].str.replace(r'[^\\d.]+', '')"
   ]
  },
  {
   "cell_type": "code",
   "execution_count": 50,
   "id": "cb48e39b",
   "metadata": {},
   "outputs": [],
   "source": [
    "df['SIFT'] = pd.to_numeric(df['SIFT'], errors='coerce')"
   ]
  },
  {
   "cell_type": "code",
   "execution_count": 36,
   "id": "429c3d05",
   "metadata": {
    "scrolled": true
   },
   "outputs": [
    {
     "data": {
      "text/plain": [
       "likely_benign        144\n",
       "benign               135\n",
       "likely_pathogenic    106\n",
       "pathogenic            75\n",
       "Name: CLIN_SIG, dtype: int64"
      ]
     },
     "execution_count": 36,
     "metadata": {},
     "output_type": "execute_result"
    }
   ],
   "source": [
    "# Check how many rows for each class\n",
    "df['CLIN_SIG'].value_counts()"
   ]
  },
  {
   "cell_type": "code",
   "execution_count": 31,
   "id": "81c49876",
   "metadata": {},
   "outputs": [],
   "source": [
    "df['CLIN_SIG'] = df['CLIN_SIG'].replace({'likely_benign&benign/likely_benign':'likely_benign'})"
   ]
  },
  {
   "cell_type": "code",
   "execution_count": 35,
   "id": "b343ac4e",
   "metadata": {},
   "outputs": [],
   "source": [
    "# drop all rows with not_provided in CLIN_SIG\n",
    "df = df[~(df == 'conflicting_interpretations_of_pathogenicity&uncertain_significance&benign').any(axis=1)]"
   ]
  },
  {
   "cell_type": "code",
   "execution_count": null,
   "id": "cc0292b5",
   "metadata": {},
   "outputs": [],
   "source": [
    "# Save the prepared dataset\n",
    "df.to_csv(\"Mutagenicity.csv\", index=False)"
   ]
  },
  {
   "cell_type": "code",
   "execution_count": null,
   "id": "8a9d756e",
   "metadata": {},
   "outputs": [],
   "source": [
    "# Initialize and train the model"
   ]
  },
  {
   "cell_type": "code",
   "execution_count": 53,
   "id": "9a975a0e",
   "metadata": {},
   "outputs": [],
   "source": [
    "# Separate features and target variable\n",
    "X = df.drop('CLIN_SIG', axis=1)\n",
    "y = df['CLIN_SIG']"
   ]
  },
  {
   "cell_type": "code",
   "execution_count": 54,
   "id": "c2675738",
   "metadata": {},
   "outputs": [],
   "source": [
    "# convert strings in Clin_Sig to int\n",
    "from sklearn.preprocessing import LabelEncoder\n",
    "label_encoder = LabelEncoder()\n",
    "y = label_encoder.fit_transform(y)"
   ]
  },
  {
   "cell_type": "code",
   "execution_count": 55,
   "id": "a66b996e",
   "metadata": {},
   "outputs": [],
   "source": [
    "# Split the data into training and testing sets\n",
    "from sklearn.model_selection import train_test_split\n",
    "X_train, X_test, y_train, y_test = train_test_split(X, y, test_size=0.2, random_state=42)"
   ]
  },
  {
   "cell_type": "code",
   "execution_count": 57,
   "id": "27f067d8",
   "metadata": {},
   "outputs": [
    {
     "data": {
      "text/plain": [
       "array([3, 0, 2, 0, 1, 2, 0, 1, 1, 3, 2, 1, 2, 3, 0, 3, 0, 2, 2, 1, 1, 3,\n",
       "       0, 1, 0, 2, 2, 0, 0, 2, 1, 1, 1, 1, 2, 0, 1, 2, 0, 3, 3, 0, 2, 1,\n",
       "       1, 1, 2, 1, 1, 2, 2, 2, 2, 2, 3, 3, 1, 2, 0, 1, 2, 3, 1, 1, 1, 2,\n",
       "       0, 2, 1, 2, 2, 3, 2, 1, 3, 1, 3, 2, 3, 0, 0, 2, 0, 0, 1, 0, 2, 0,\n",
       "       1, 2, 1, 3, 2, 3, 3, 0, 2, 1, 2, 3, 1, 1, 0, 0, 1, 2, 2, 2, 1, 0,\n",
       "       3, 2, 0, 0, 3, 1, 1, 1, 3, 1, 0, 1, 3, 1, 1, 1, 2, 1, 3, 0, 0, 0,\n",
       "       2, 0, 3, 2, 3, 0, 1, 3, 0, 0, 2, 0, 2, 2, 2, 1, 2, 0, 1, 0, 0, 0,\n",
       "       1, 1, 0, 0, 2, 2, 0, 1, 1, 2, 3, 1, 2, 3, 0, 0, 2, 2, 2, 1, 0, 2,\n",
       "       2, 0, 0, 0, 2, 2, 1, 0, 3, 2, 1, 0, 1, 2, 2, 0, 1, 2, 3, 0, 0, 3,\n",
       "       2, 3, 0, 2, 0, 0, 1, 1, 0, 2, 1, 2, 1, 1, 3, 3, 1, 2, 0, 0, 1, 3,\n",
       "       0, 1, 2, 1, 2, 0, 1, 1, 0, 1, 3, 1, 0, 1, 3, 1, 0, 1, 2, 3, 0, 1,\n",
       "       0, 0, 3, 0, 0, 1, 1, 1, 0, 1, 0, 0, 1, 0, 2, 1, 2, 0, 1, 1, 0, 1,\n",
       "       1, 0, 1, 1, 0, 1, 3, 1, 0, 3, 0, 3, 1, 1, 1, 0, 1, 1, 3, 1, 0, 1,\n",
       "       0, 1, 1, 0, 1, 3, 0, 0, 3, 0, 1, 1, 2, 0, 2, 1, 3, 2, 1, 3, 3, 3,\n",
       "       0, 0, 2, 1, 1, 0, 2, 3, 0, 3, 0, 3, 2, 0, 2, 0, 1, 0, 0, 0, 2, 3,\n",
       "       3, 3, 1, 1, 0, 0, 1, 1, 2, 0, 1, 0, 3, 3, 0, 1, 0, 0, 0, 2, 2, 2,\n",
       "       1, 3, 3, 2, 0, 1, 2, 3, 2, 3, 2, 3, 0, 1, 0, 3])"
      ]
     },
     "execution_count": 57,
     "metadata": {},
     "output_type": "execute_result"
    }
   ],
   "source": [
    "y_train"
   ]
  },
  {
   "cell_type": "code",
   "execution_count": 58,
   "id": "25631977",
   "metadata": {},
   "outputs": [
    {
     "data": {
      "text/plain": [
       "array([2, 3, 1, 1, 2, 1, 1, 0, 1, 2, 3, 3, 2, 0, 0, 1, 1, 1, 2, 1, 0, 2,\n",
       "       0, 0, 1, 0, 2, 2, 0, 1, 0, 1, 3, 0, 3, 0, 1, 1, 2, 0, 1, 0, 1, 2,\n",
       "       0, 1, 2, 1, 1, 2, 2, 3, 0, 0, 3, 1, 0, 1, 2, 1, 1, 1, 2, 0, 2, 2,\n",
       "       0, 0, 0, 1, 3, 3, 3, 2, 0, 1, 1, 1, 1, 1, 2, 2, 3, 0, 0, 0, 2, 0,\n",
       "       0, 3, 1, 1])"
      ]
     },
     "execution_count": 58,
     "metadata": {},
     "output_type": "execute_result"
    }
   ],
   "source": [
    "y_test"
   ]
  },
  {
   "cell_type": "code",
   "execution_count": null,
   "id": "d5335779",
   "metadata": {},
   "outputs": [],
   "source": [
    "# start with the Gradient Boosting"
   ]
  },
  {
   "cell_type": "code",
   "execution_count": 59,
   "id": "560832e3",
   "metadata": {},
   "outputs": [],
   "source": [
    "# Define the XGBoost classifier\n",
    "xgb_model = xgb.XGBClassifier()"
   ]
  },
  {
   "cell_type": "code",
   "execution_count": 60,
   "id": "e7c78a15",
   "metadata": {},
   "outputs": [
    {
     "data": {
      "text/html": [
       "<style>#sk-container-id-1 {color: black;background-color: white;}#sk-container-id-1 pre{padding: 0;}#sk-container-id-1 div.sk-toggleable {background-color: white;}#sk-container-id-1 label.sk-toggleable__label {cursor: pointer;display: block;width: 100%;margin-bottom: 0;padding: 0.3em;box-sizing: border-box;text-align: center;}#sk-container-id-1 label.sk-toggleable__label-arrow:before {content: \"▸\";float: left;margin-right: 0.25em;color: #696969;}#sk-container-id-1 label.sk-toggleable__label-arrow:hover:before {color: black;}#sk-container-id-1 div.sk-estimator:hover label.sk-toggleable__label-arrow:before {color: black;}#sk-container-id-1 div.sk-toggleable__content {max-height: 0;max-width: 0;overflow: hidden;text-align: left;background-color: #f0f8ff;}#sk-container-id-1 div.sk-toggleable__content pre {margin: 0.2em;color: black;border-radius: 0.25em;background-color: #f0f8ff;}#sk-container-id-1 input.sk-toggleable__control:checked~div.sk-toggleable__content {max-height: 200px;max-width: 100%;overflow: auto;}#sk-container-id-1 input.sk-toggleable__control:checked~label.sk-toggleable__label-arrow:before {content: \"▾\";}#sk-container-id-1 div.sk-estimator input.sk-toggleable__control:checked~label.sk-toggleable__label {background-color: #d4ebff;}#sk-container-id-1 div.sk-label input.sk-toggleable__control:checked~label.sk-toggleable__label {background-color: #d4ebff;}#sk-container-id-1 input.sk-hidden--visually {border: 0;clip: rect(1px 1px 1px 1px);clip: rect(1px, 1px, 1px, 1px);height: 1px;margin: -1px;overflow: hidden;padding: 0;position: absolute;width: 1px;}#sk-container-id-1 div.sk-estimator {font-family: monospace;background-color: #f0f8ff;border: 1px dotted black;border-radius: 0.25em;box-sizing: border-box;margin-bottom: 0.5em;}#sk-container-id-1 div.sk-estimator:hover {background-color: #d4ebff;}#sk-container-id-1 div.sk-parallel-item::after {content: \"\";width: 100%;border-bottom: 1px solid gray;flex-grow: 1;}#sk-container-id-1 div.sk-label:hover label.sk-toggleable__label {background-color: #d4ebff;}#sk-container-id-1 div.sk-serial::before {content: \"\";position: absolute;border-left: 1px solid gray;box-sizing: border-box;top: 0;bottom: 0;left: 50%;z-index: 0;}#sk-container-id-1 div.sk-serial {display: flex;flex-direction: column;align-items: center;background-color: white;padding-right: 0.2em;padding-left: 0.2em;position: relative;}#sk-container-id-1 div.sk-item {position: relative;z-index: 1;}#sk-container-id-1 div.sk-parallel {display: flex;align-items: stretch;justify-content: center;background-color: white;position: relative;}#sk-container-id-1 div.sk-item::before, #sk-container-id-1 div.sk-parallel-item::before {content: \"\";position: absolute;border-left: 1px solid gray;box-sizing: border-box;top: 0;bottom: 0;left: 50%;z-index: -1;}#sk-container-id-1 div.sk-parallel-item {display: flex;flex-direction: column;z-index: 1;position: relative;background-color: white;}#sk-container-id-1 div.sk-parallel-item:first-child::after {align-self: flex-end;width: 50%;}#sk-container-id-1 div.sk-parallel-item:last-child::after {align-self: flex-start;width: 50%;}#sk-container-id-1 div.sk-parallel-item:only-child::after {width: 0;}#sk-container-id-1 div.sk-dashed-wrapped {border: 1px dashed gray;margin: 0 0.4em 0.5em 0.4em;box-sizing: border-box;padding-bottom: 0.4em;background-color: white;}#sk-container-id-1 div.sk-label label {font-family: monospace;font-weight: bold;display: inline-block;line-height: 1.2em;}#sk-container-id-1 div.sk-label-container {text-align: center;}#sk-container-id-1 div.sk-container {/* jupyter's `normalize.less` sets `[hidden] { display: none; }` but bootstrap.min.css set `[hidden] { display: none !important; }` so we also need the `!important` here to be able to override the default hidden behavior on the sphinx rendered scikit-learn.org. See: https://github.com/scikit-learn/scikit-learn/issues/21755 */display: inline-block !important;position: relative;}#sk-container-id-1 div.sk-text-repr-fallback {display: none;}</style><div id=\"sk-container-id-1\" class=\"sk-top-container\"><div class=\"sk-text-repr-fallback\"><pre>XGBClassifier(base_score=None, booster=None, callbacks=None,\n",
       "              colsample_bylevel=None, colsample_bynode=None,\n",
       "              colsample_bytree=None, early_stopping_rounds=None,\n",
       "              enable_categorical=False, eval_metric=None, feature_types=None,\n",
       "              gamma=None, gpu_id=None, grow_policy=None, importance_type=None,\n",
       "              interaction_constraints=None, learning_rate=None, max_bin=None,\n",
       "              max_cat_threshold=None, max_cat_to_onehot=None,\n",
       "              max_delta_step=None, max_depth=None, max_leaves=None,\n",
       "              min_child_weight=None, missing=nan, monotone_constraints=None,\n",
       "              n_estimators=100, n_jobs=None, num_parallel_tree=None,\n",
       "              objective=&#x27;multi:softprob&#x27;, predictor=None, ...)</pre><b>In a Jupyter environment, please rerun this cell to show the HTML representation or trust the notebook. <br />On GitHub, the HTML representation is unable to render, please try loading this page with nbviewer.org.</b></div><div class=\"sk-container\" hidden><div class=\"sk-item\"><div class=\"sk-estimator sk-toggleable\"><input class=\"sk-toggleable__control sk-hidden--visually\" id=\"sk-estimator-id-1\" type=\"checkbox\" checked><label for=\"sk-estimator-id-1\" class=\"sk-toggleable__label sk-toggleable__label-arrow\">XGBClassifier</label><div class=\"sk-toggleable__content\"><pre>XGBClassifier(base_score=None, booster=None, callbacks=None,\n",
       "              colsample_bylevel=None, colsample_bynode=None,\n",
       "              colsample_bytree=None, early_stopping_rounds=None,\n",
       "              enable_categorical=False, eval_metric=None, feature_types=None,\n",
       "              gamma=None, gpu_id=None, grow_policy=None, importance_type=None,\n",
       "              interaction_constraints=None, learning_rate=None, max_bin=None,\n",
       "              max_cat_threshold=None, max_cat_to_onehot=None,\n",
       "              max_delta_step=None, max_depth=None, max_leaves=None,\n",
       "              min_child_weight=None, missing=nan, monotone_constraints=None,\n",
       "              n_estimators=100, n_jobs=None, num_parallel_tree=None,\n",
       "              objective=&#x27;multi:softprob&#x27;, predictor=None, ...)</pre></div></div></div></div></div>"
      ],
      "text/plain": [
       "XGBClassifier(base_score=None, booster=None, callbacks=None,\n",
       "              colsample_bylevel=None, colsample_bynode=None,\n",
       "              colsample_bytree=None, early_stopping_rounds=None,\n",
       "              enable_categorical=False, eval_metric=None, feature_types=None,\n",
       "              gamma=None, gpu_id=None, grow_policy=None, importance_type=None,\n",
       "              interaction_constraints=None, learning_rate=None, max_bin=None,\n",
       "              max_cat_threshold=None, max_cat_to_onehot=None,\n",
       "              max_delta_step=None, max_depth=None, max_leaves=None,\n",
       "              min_child_weight=None, missing=nan, monotone_constraints=None,\n",
       "              n_estimators=100, n_jobs=None, num_parallel_tree=None,\n",
       "              objective='multi:softprob', predictor=None, ...)"
      ]
     },
     "execution_count": 60,
     "metadata": {},
     "output_type": "execute_result"
    }
   ],
   "source": [
    "# Train the classifier\n",
    "xgb_model.fit(X_train, y_train)"
   ]
  },
  {
   "cell_type": "code",
   "execution_count": 61,
   "id": "2af32bc0",
   "metadata": {},
   "outputs": [],
   "source": [
    "# Make predictions on the test set\n",
    "y_pred = xgb_model.predict(X_test)"
   ]
  },
  {
   "cell_type": "code",
   "execution_count": 62,
   "id": "ee7e0a9d",
   "metadata": {},
   "outputs": [],
   "source": [
    "# Inverse transform the numeric labels back to string labels (if needed)\n",
    "y_pred = label_encoder.inverse_transform(y_pred)\n",
    "y_test = label_encoder.inverse_transform(y_test)"
   ]
  },
  {
   "cell_type": "code",
   "execution_count": 64,
   "id": "f37a2672",
   "metadata": {},
   "outputs": [
    {
     "name": "stdout",
     "output_type": "stream",
     "text": [
      "Accuracy: 97.83%\n"
     ]
    }
   ],
   "source": [
    "# Evaluate the accuracy of the model\n",
    "from sklearn.metrics import accuracy_score\n",
    "accuracy = accuracy_score(y_test, y_pred)\n",
    "print(\"Accuracy: %.2f%%\" % (accuracy * 100.0))"
   ]
  },
  {
   "cell_type": "code",
   "execution_count": 69,
   "id": "b080f68c",
   "metadata": {},
   "outputs": [],
   "source": [
    "xgb_model.save_model(\"C:/Users/aisin/Desktop/Files/For Python/Mutagenecity dataset/grad_boost_CLINSIG.txt\")"
   ]
  }
 ],
 "metadata": {
  "kernelspec": {
   "display_name": "Python 3 (ipykernel)",
   "language": "python",
   "name": "python3"
  },
  "language_info": {
   "codemirror_mode": {
    "name": "ipython",
    "version": 3
   },
   "file_extension": ".py",
   "mimetype": "text/x-python",
   "name": "python",
   "nbconvert_exporter": "python",
   "pygments_lexer": "ipython3",
   "version": "3.9.16"
  }
 },
 "nbformat": 4,
 "nbformat_minor": 5
}
